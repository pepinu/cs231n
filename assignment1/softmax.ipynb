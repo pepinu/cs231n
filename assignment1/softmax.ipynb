{
 "cells": [
  {
   "cell_type": "markdown",
   "metadata": {},
   "source": [
    "# Softmax exercise\n",
    "\n",
    "*Complete and hand in this completed worksheet (including its outputs and any supporting code outside of the worksheet) with your assignment submission. For more details see the [assignments page](http://vision.stanford.edu/teaching/cs231n/assignments.html) on the course website.*\n",
    "\n",
    "This exercise is analogous to the SVM exercise. You will:\n",
    "\n",
    "- implement a fully-vectorized **loss function** for the Softmax classifier\n",
    "- implement the fully-vectorized expression for its **analytic gradient**\n",
    "- **check your implementation** with numerical gradient\n",
    "- use a validation set to **tune the learning rate and regularization** strength\n",
    "- **optimize** the loss function with **SGD**\n",
    "- **visualize** the final learned weights\n"
   ]
  },
  {
   "cell_type": "code",
   "execution_count": 1,
   "metadata": {
    "collapsed": false
   },
   "outputs": [],
   "source": [
    "import random\n",
    "import numpy as np\n",
    "from cs231n.data_utils import load_CIFAR10\n",
    "import matplotlib.pyplot as plt\n",
    "%matplotlib inline\n",
    "plt.rcParams['figure.figsize'] = (10.0, 8.0) # set default size of plots\n",
    "plt.rcParams['image.interpolation'] = 'nearest'\n",
    "plt.rcParams['image.cmap'] = 'gray'\n",
    "\n",
    "# for auto-reloading extenrnal modules\n",
    "# see http://stackoverflow.com/questions/1907993/autoreload-of-modules-in-ipython\n",
    "%load_ext autoreload\n",
    "%autoreload 2"
   ]
  },
  {
   "cell_type": "code",
   "execution_count": 2,
   "metadata": {
    "collapsed": false
   },
   "outputs": [
    {
     "name": "stdout",
     "output_type": "stream",
     "text": [
      "Train data shape:  (49000, 3073)\n",
      "Train labels shape:  (49000,)\n",
      "Validation data shape:  (1000, 3073)\n",
      "Validation labels shape:  (1000,)\n",
      "Test data shape:  (1000, 3073)\n",
      "Test labels shape:  (1000,)\n",
      "dev data shape:  (500, 3073)\n",
      "dev labels shape:  (500,)\n"
     ]
    }
   ],
   "source": [
    "def get_CIFAR10_data(num_training=49000, num_validation=1000, num_test=1000, num_dev=500):\n",
    "  \"\"\"\n",
    "  Load the CIFAR-10 dataset from disk and perform preprocessing to prepare\n",
    "  it for the linear classifier. These are the same steps as we used for the\n",
    "  SVM, but condensed to a single function.  \n",
    "  \"\"\"\n",
    "  # Load the raw CIFAR-10 data\n",
    "  cifar10_dir = 'cs231n/datasets/cifar-10-batches-py'\n",
    "  X_train, y_train, X_test, y_test = load_CIFAR10(cifar10_dir)\n",
    "  \n",
    "  # subsample the data\n",
    "  mask = range(num_training, num_training + num_validation)\n",
    "  X_val = X_train[mask]\n",
    "  y_val = y_train[mask]\n",
    "  mask = range(num_training)\n",
    "  X_train = X_train[mask]\n",
    "  y_train = y_train[mask]\n",
    "  mask = range(num_test)\n",
    "  X_test = X_test[mask]\n",
    "  y_test = y_test[mask]\n",
    "  mask = np.random.choice(num_training, num_dev, replace=False)\n",
    "  X_dev = X_train[mask]\n",
    "  y_dev = y_train[mask]\n",
    "  \n",
    "  # Preprocessing: reshape the image data into rows\n",
    "  X_train = np.reshape(X_train, (X_train.shape[0], -1))\n",
    "  X_val = np.reshape(X_val, (X_val.shape[0], -1))\n",
    "  X_test = np.reshape(X_test, (X_test.shape[0], -1))\n",
    "  X_dev = np.reshape(X_dev, (X_dev.shape[0], -1))\n",
    "  \n",
    "  # Normalize the data: subtract the mean image\n",
    "  mean_image = np.mean(X_train, axis = 0)\n",
    "  X_train -= mean_image\n",
    "  X_val -= mean_image\n",
    "  X_test -= mean_image\n",
    "  X_dev -= mean_image\n",
    "  \n",
    "  # add bias dimension and transform into columns\n",
    "  X_train = np.hstack([X_train, np.ones((X_train.shape[0], 1))])\n",
    "  X_val = np.hstack([X_val, np.ones((X_val.shape[0], 1))])\n",
    "  X_test = np.hstack([X_test, np.ones((X_test.shape[0], 1))])\n",
    "  X_dev = np.hstack([X_dev, np.ones((X_dev.shape[0], 1))])\n",
    "  \n",
    "  return X_train, y_train, X_val, y_val, X_test, y_test, X_dev, y_dev\n",
    "\n",
    "\n",
    "# Invoke the above function to get our data.\n",
    "X_train, y_train, X_val, y_val, X_test, y_test, X_dev, y_dev = get_CIFAR10_data()\n",
    "print 'Train data shape: ', X_train.shape\n",
    "print 'Train labels shape: ', y_train.shape\n",
    "print 'Validation data shape: ', X_val.shape\n",
    "print 'Validation labels shape: ', y_val.shape\n",
    "print 'Test data shape: ', X_test.shape\n",
    "print 'Test labels shape: ', y_test.shape\n",
    "print 'dev data shape: ', X_dev.shape\n",
    "print 'dev labels shape: ', y_dev.shape"
   ]
  },
  {
   "cell_type": "markdown",
   "metadata": {},
   "source": [
    "## Softmax Classifier\n",
    "\n",
    "Your code for this section will all be written inside **cs231n/classifiers/softmax.py**. \n"
   ]
  },
  {
   "cell_type": "code",
   "execution_count": 39,
   "metadata": {
    "collapsed": false
   },
   "outputs": [
    {
     "name": "stdout",
     "output_type": "stream",
     "text": [
      "loss: 2.353679\n",
      "sanity check: 2.302585\n"
     ]
    }
   ],
   "source": [
    "# First implement the naive softmax loss function with nested loops.\n",
    "# Open the file cs231n/classifiers/softmax.py and implement the\n",
    "# softmax_loss_naive function.\n",
    "\n",
    "from cs231n.classifiers.softmax import softmax_loss_naive\n",
    "import time\n",
    "\n",
    "# Generate a random softmax weight matrix and use it to compute the loss.\n",
    "W = np.random.randn(3073, 10) * 0.0001\n",
    "loss, grad = softmax_loss_naive(W, X_dev, y_dev, 0.0)\n",
    "\n",
    "# As a rough sanity check, our loss should be something close to -log(0.1).\n",
    "print 'loss: %f' % loss\n",
    "print 'sanity check: %f' % (-np.log(0.1))"
   ]
  },
  {
   "cell_type": "markdown",
   "metadata": {},
   "source": [
    "## Inline Question 1:\n",
    "Why do we expect our loss to be close to -log(0.1)? Explain briefly.**\n",
    "\n",
    "**Your answer:** *There are 10 classes in CIFAR10, therefore classifying probability of one of the classes ought to be close to 1/10*\n"
   ]
  },
  {
   "cell_type": "code",
   "execution_count": 44,
   "metadata": {
    "collapsed": false
   },
   "outputs": [
    {
     "name": "stdout",
     "output_type": "stream",
     "text": [
      "numerical: -1.665902 analytic: -1.665902, relative error: 2.808350e-09\n",
      "numerical: 0.198834 analytic: 0.198834, relative error: 1.633386e-07\n",
      "numerical: -0.929969 analytic: -0.929969, relative error: 9.707612e-09\n",
      "numerical: 0.798601 analytic: 0.798601, relative error: 4.213459e-08\n",
      "numerical: -0.131138 analytic: -0.131138, relative error: 1.946554e-07\n",
      "numerical: 1.828589 analytic: 1.828589, relative error: 1.077889e-08\n",
      "numerical: 1.695084 analytic: 1.695084, relative error: 1.046912e-08\n",
      "numerical: 1.231412 analytic: 1.231412, relative error: 1.152373e-08\n",
      "numerical: 4.354789 analytic: 4.354789, relative error: 1.745214e-08\n",
      "numerical: -1.199736 analytic: -1.199736, relative error: 6.672629e-09\n",
      "numerical: 3.999574 analytic: 3.999574, relative error: 1.545407e-08\n",
      "numerical: -0.012129 analytic: -0.012129, relative error: 8.532860e-07\n",
      "numerical: -1.444409 analytic: -1.444409, relative error: 6.177257e-09\n",
      "numerical: -4.007452 analytic: -4.007452, relative error: 1.577187e-09\n",
      "numerical: 0.425904 analytic: 0.425904, relative error: 4.715929e-10\n",
      "numerical: 3.540161 analytic: 3.540161, relative error: 1.259759e-08\n",
      "numerical: -1.383083 analytic: -1.383083, relative error: 1.688236e-08\n",
      "numerical: -0.824768 analytic: -0.824768, relative error: 4.569258e-08\n",
      "numerical: -1.883333 analytic: -1.883334, relative error: 3.129662e-09\n",
      "numerical: -0.343739 analytic: -0.343739, relative error: 8.741788e-08\n"
     ]
    }
   ],
   "source": [
    "# Complete the implementation of softmax_loss_naive and implement a (naive)\n",
    "# version of the gradient that uses nested loops.\n",
    "loss, grad = softmax_loss_naive(W, X_dev, y_dev, 0.0)\n",
    "\n",
    "# As we did for the SVM, use numeric gradient checking as a debugging tool.\n",
    "# The numeric gradient should be close to the analytic gradient.\n",
    "from cs231n.gradient_check import grad_check_sparse\n",
    "f = lambda w: softmax_loss_naive(w, X_dev, y_dev, 0.0)[0]\n",
    "grad_numerical = grad_check_sparse(f, W, grad, 10)\n",
    "\n",
    "# similar to SVM case, do another gradient check with regularization\n",
    "loss, grad = softmax_loss_naive(W, X_dev, y_dev, 1e2)\n",
    "f = lambda w: softmax_loss_naive(w, X_dev, y_dev, 1e2)[0]\n",
    "grad_numerical = grad_check_sparse(f, W, grad, 10)"
   ]
  },
  {
   "cell_type": "code",
   "execution_count": 72,
   "metadata": {
    "collapsed": false
   },
   "outputs": [
    {
     "name": "stdout",
     "output_type": "stream",
     "text": [
      "naive loss: 2.353679e+00 computed in 0.098186s\n",
      "vectorized loss: 2.353679e+00 computed in 0.009017s\n",
      "Loss difference: 0.000000\n",
      "Gradient difference: 0.000000\n"
     ]
    }
   ],
   "source": [
    "# Now that we have a naive implementation of the softmax loss function and its gradient,\n",
    "# implement a vectorized version in softmax_loss_vectorized.\n",
    "# The two versions should compute the same results, but the vectorized version should be\n",
    "# much faster.\n",
    "tic = time.time()\n",
    "loss_naive, grad_naive = softmax_loss_naive(W, X_dev, y_dev, 0.00001)\n",
    "toc = time.time()\n",
    "print 'naive loss: %e computed in %fs' % (loss_naive, toc - tic)\n",
    "\n",
    "from cs231n.classifiers.softmax import softmax_loss_vectorized\n",
    "tic = time.time()\n",
    "loss_vectorized, grad_vectorized = softmax_loss_vectorized(W, X_dev, y_dev, 0.00001)\n",
    "toc = time.time()\n",
    "print 'vectorized loss: %e computed in %fs' % (loss_vectorized, toc - tic)\n",
    "\n",
    "# As we did for the SVM, we use the Frobenius norm to compare the two versions\n",
    "# of the gradient.\n",
    "grad_difference = np.linalg.norm(grad_naive - grad_vectorized, ord='fro')\n",
    "print 'Loss difference: %f' % np.abs(loss_naive - loss_vectorized)\n",
    "print 'Gradient difference: %f' % grad_difference"
   ]
  },
  {
   "cell_type": "code",
   "execution_count": 75,
   "metadata": {
    "collapsed": false
   },
   "outputs": [
    {
     "name": "stdout",
     "output_type": "stream",
     "text": [
      "lr 1.000000e-09 reg 1.000000e+03 train accuracy: 0.084612 val accuracy: 0.085000\n",
      "lr 1.000000e-09 reg 5.000000e+03 train accuracy: 0.134041 val accuracy: 0.133000\n",
      "lr 1.000000e-09 reg 1.000000e+04 train accuracy: 0.117816 val accuracy: 0.111000\n",
      "lr 1.000000e-09 reg 5.000000e+04 train accuracy: 0.107347 val accuracy: 0.107000\n",
      "lr 1.000000e-09 reg 1.000000e+05 train accuracy: 0.109714 val accuracy: 0.109000\n",
      "lr 1.000000e-09 reg 5.000000e+05 train accuracy: 0.098286 val accuracy: 0.080000\n",
      "lr 1.000000e-09 reg 1.000000e+06 train accuracy: 0.102000 val accuracy: 0.123000\n",
      "lr 1.000000e-09 reg 5.000000e+06 train accuracy: 0.248735 val accuracy: 0.268000\n",
      "lr 1.000000e-09 reg 1.000000e+07 train accuracy: 0.247918 val accuracy: 0.260000\n",
      "lr 1.000000e-09 reg 5.000000e+07 train accuracy: 0.260408 val accuracy: 0.273000\n",
      "lr 5.000000e-09 reg 1.000000e+03 train accuracy: 0.121510 val accuracy: 0.101000\n",
      "lr 5.000000e-09 reg 5.000000e+03 train accuracy: 0.122816 val accuracy: 0.135000\n",
      "lr 5.000000e-09 reg 1.000000e+04 train accuracy: 0.124694 val accuracy: 0.127000\n",
      "lr 5.000000e-09 reg 5.000000e+04 train accuracy: 0.157592 val accuracy: 0.165000\n",
      "lr 5.000000e-09 reg 1.000000e+05 train accuracy: 0.166959 val accuracy: 0.165000\n",
      "lr 5.000000e-09 reg 5.000000e+05 train accuracy: 0.250327 val accuracy: 0.263000\n",
      "lr 5.000000e-09 reg 1.000000e+06 train accuracy: 0.257939 val accuracy: 0.267000\n",
      "lr 5.000000e-09 reg 5.000000e+06 train accuracy: 0.243286 val accuracy: 0.259000\n",
      "lr 5.000000e-09 reg 1.000000e+07 train accuracy: 0.242265 val accuracy: 0.257000\n",
      "lr 5.000000e-09 reg 5.000000e+07 train accuracy: 0.234102 val accuracy: 0.254000\n",
      "lr 1.000000e-08 reg 1.000000e+03 train accuracy: 0.155388 val accuracy: 0.156000\n",
      "lr 1.000000e-08 reg 5.000000e+03 train accuracy: 0.147735 val accuracy: 0.137000\n",
      "lr 1.000000e-08 reg 1.000000e+04 train accuracy: 0.158551 val accuracy: 0.179000\n",
      "lr 1.000000e-08 reg 5.000000e+04 train accuracy: 0.173714 val accuracy: 0.174000\n",
      "lr 1.000000e-08 reg 1.000000e+05 train accuracy: 0.208776 val accuracy: 0.216000\n",
      "lr 1.000000e-08 reg 5.000000e+05 train accuracy: 0.269061 val accuracy: 0.280000\n",
      "lr 1.000000e-08 reg 1.000000e+06 train accuracy: 0.256388 val accuracy: 0.270000\n",
      "lr 1.000000e-08 reg 5.000000e+06 train accuracy: 0.246367 val accuracy: 0.255000\n",
      "lr 1.000000e-08 reg 1.000000e+07 train accuracy: 0.236490 val accuracy: 0.242000\n",
      "lr 1.000000e-08 reg 5.000000e+07 train accuracy: 0.214408 val accuracy: 0.215000\n",
      "lr 5.000000e-08 reg 1.000000e+03 train accuracy: 0.229878 val accuracy: 0.218000\n",
      "lr 5.000000e-08 reg 5.000000e+03 train accuracy: 0.239959 val accuracy: 0.236000\n",
      "lr 5.000000e-08 reg 1.000000e+04 train accuracy: 0.261592 val accuracy: 0.272000\n",
      "lr 5.000000e-08 reg 5.000000e+04 train accuracy: 0.326531 val accuracy: 0.343000\n",
      "lr 5.000000e-08 reg 1.000000e+05 train accuracy: 0.305898 val accuracy: 0.322000\n",
      "lr 5.000000e-08 reg 5.000000e+05 train accuracy: 0.267816 val accuracy: 0.279000\n",
      "lr 5.000000e-08 reg 1.000000e+06 train accuracy: 0.262857 val accuracy: 0.273000\n",
      "lr 5.000000e-08 reg 5.000000e+06 train accuracy: 0.257694 val accuracy: 0.270000\n",
      "lr 5.000000e-08 reg 1.000000e+07 train accuracy: 0.230939 val accuracy: 0.238000\n",
      "lr 5.000000e-08 reg 5.000000e+07 train accuracy: 0.088408 val accuracy: 0.076000\n",
      "lr 1.000000e-07 reg 1.000000e+03 train accuracy: 0.250122 val accuracy: 0.246000\n",
      "lr 1.000000e-07 reg 5.000000e+03 train accuracy: 0.294082 val accuracy: 0.310000\n",
      "lr 1.000000e-07 reg 1.000000e+04 train accuracy: 0.329388 val accuracy: 0.325000\n",
      "lr 1.000000e-07 reg 5.000000e+04 train accuracy: 0.328673 val accuracy: 0.350000\n",
      "lr 1.000000e-07 reg 1.000000e+05 train accuracy: 0.308204 val accuracy: 0.328000\n",
      "lr 1.000000e-07 reg 5.000000e+05 train accuracy: 0.265000 val accuracy: 0.280000\n",
      "lr 1.000000e-07 reg 1.000000e+06 train accuracy: 0.256592 val accuracy: 0.271000\n",
      "lr 1.000000e-07 reg 5.000000e+06 train accuracy: 0.207816 val accuracy: 0.208000\n",
      "lr 1.000000e-07 reg 1.000000e+07 train accuracy: 0.211061 val accuracy: 0.217000\n",
      "lr 1.000000e-07 reg 5.000000e+07 train accuracy: 0.100265 val accuracy: 0.087000\n",
      "lr 5.000000e-07 reg 1.000000e+03 train accuracy: 0.364469 val accuracy: 0.363000\n",
      "lr 5.000000e-07 reg 5.000000e+03 train accuracy: 0.389143 val accuracy: 0.395000\n",
      "lr 5.000000e-07 reg 1.000000e+04 train accuracy: 0.370653 val accuracy: 0.379000\n",
      "lr 5.000000e-07 reg 5.000000e+04 train accuracy: 0.321837 val accuracy: 0.347000\n",
      "lr 5.000000e-07 reg 1.000000e+05 train accuracy: 0.305347 val accuracy: 0.319000\n",
      "lr 5.000000e-07 reg 5.000000e+05 train accuracy: 0.239633 val accuracy: 0.261000\n",
      "lr 5.000000e-07 reg 1.000000e+06 train accuracy: 0.208878 val accuracy: 0.226000\n",
      "lr 5.000000e-07 reg 5.000000e+06 train accuracy: 0.094755 val accuracy: 0.083000\n",
      "lr 5.000000e-07 reg 1.000000e+07 train accuracy: 0.100265 val accuracy: 0.087000\n",
      "lr 5.000000e-07 reg 5.000000e+07 train accuracy: 0.100265 val accuracy: 0.087000\n",
      "lr 1.000000e-06 reg 1.000000e+03 train accuracy: 0.403224 val accuracy: 0.402000\n",
      "lr 1.000000e-06 reg 5.000000e+03 train accuracy: 0.380510 val accuracy: 0.388000\n",
      "lr 1.000000e-06 reg 1.000000e+04 train accuracy: 0.359408 val accuracy: 0.376000\n",
      "lr 1.000000e-06 reg 5.000000e+04 train accuracy: 0.315041 val accuracy: 0.327000\n",
      "lr 1.000000e-06 reg 1.000000e+05 train accuracy: 0.296653 val accuracy: 0.308000\n",
      "lr 1.000000e-06 reg 5.000000e+05 train accuracy: 0.225388 val accuracy: 0.237000\n",
      "lr 1.000000e-06 reg 1.000000e+06 train accuracy: 0.203612 val accuracy: 0.196000\n",
      "lr 1.000000e-06 reg 5.000000e+06 train accuracy: 0.100265 val accuracy: 0.087000\n",
      "lr 1.000000e-06 reg 1.000000e+07 train accuracy: 0.100265 val accuracy: 0.087000\n",
      "lr 1.000000e-06 reg 5.000000e+07 train accuracy: 0.100265 val accuracy: 0.087000\n",
      "lr 5.000000e-06 reg 1.000000e+03 train accuracy: 0.377449 val accuracy: 0.382000\n",
      "lr 5.000000e-06 reg 5.000000e+03 train accuracy: 0.328755 val accuracy: 0.349000\n",
      "lr 5.000000e-06 reg 1.000000e+04 train accuracy: 0.306000 val accuracy: 0.320000\n",
      "lr 5.000000e-06 reg 5.000000e+04 train accuracy: 0.194571 val accuracy: 0.198000\n",
      "lr 5.000000e-06 reg 1.000000e+05 train accuracy: 0.139673 val accuracy: 0.130000\n",
      "lr 5.000000e-06 reg 5.000000e+05 train accuracy: 0.082837 val accuracy: 0.081000\n",
      "lr 5.000000e-06 reg 1.000000e+06 train accuracy: 0.100265 val accuracy: 0.087000\n",
      "lr 5.000000e-06 reg 5.000000e+06 train accuracy: 0.100265 val accuracy: 0.087000\n",
      "lr 5.000000e-06 reg 1.000000e+07 train accuracy: 0.100265 val accuracy: 0.087000\n",
      "lr 5.000000e-06 reg 5.000000e+07 train accuracy: 0.100265 val accuracy: 0.087000\n",
      "lr 1.000000e-05 reg 1.000000e+03 train accuracy: 0.289633 val accuracy: 0.277000\n",
      "lr 1.000000e-05 reg 5.000000e+03 train accuracy: 0.207673 val accuracy: 0.215000\n",
      "lr 1.000000e-05 reg 1.000000e+04 train accuracy: 0.165796 val accuracy: 0.185000\n",
      "lr 1.000000e-05 reg 5.000000e+04 train accuracy: 0.107429 val accuracy: 0.104000\n",
      "lr 1.000000e-05 reg 1.000000e+05 train accuracy: 0.071388 val accuracy: 0.073000\n",
      "lr 1.000000e-05 reg 5.000000e+05 train accuracy: 0.100265 val accuracy: 0.087000\n",
      "lr 1.000000e-05 reg 1.000000e+06 train accuracy: 0.100265 val accuracy: 0.087000\n",
      "lr 1.000000e-05 reg 5.000000e+06 train accuracy: 0.100265 val accuracy: 0.087000\n",
      "lr 1.000000e-05 reg 1.000000e+07 train accuracy: 0.100265 val accuracy: 0.087000\n",
      "lr 1.000000e-05 reg 5.000000e+07 train accuracy: 0.100265 val accuracy: 0.087000\n",
      "lr 5.000000e-05 reg 1.000000e+03 train accuracy: 0.239776 val accuracy: 0.220000\n",
      "lr 5.000000e-05 reg 5.000000e+03 train accuracy: 0.190286 val accuracy: 0.186000\n",
      "lr 5.000000e-05 reg 1.000000e+04 train accuracy: 0.139633 val accuracy: 0.162000\n",
      "lr 5.000000e-05 reg 5.000000e+04 train accuracy: 0.050796 val accuracy: 0.048000\n",
      "lr 5.000000e-05 reg 1.000000e+05 train accuracy: 0.100265 val accuracy: 0.087000\n",
      "lr 5.000000e-05 reg 5.000000e+05 train accuracy: 0.100265 val accuracy: 0.087000\n",
      "lr 5.000000e-05 reg 1.000000e+06 train accuracy: 0.100265 val accuracy: 0.087000\n",
      "lr 5.000000e-05 reg 5.000000e+06 train accuracy: 0.100265 val accuracy: 0.087000\n",
      "lr 5.000000e-05 reg 1.000000e+07 train accuracy: 0.100265 val accuracy: 0.087000\n",
      "lr 5.000000e-05 reg 5.000000e+07 train accuracy: 0.100265 val accuracy: 0.087000\n",
      "lr 1.000000e-04 reg 1.000000e+03 train accuracy: 0.204204 val accuracy: 0.201000\n",
      "lr 1.000000e-04 reg 5.000000e+03 train accuracy: 0.134347 val accuracy: 0.131000\n",
      "lr 1.000000e-04 reg 1.000000e+04 train accuracy: 0.141959 val accuracy: 0.131000\n",
      "lr 1.000000e-04 reg 5.000000e+04 train accuracy: 0.100265 val accuracy: 0.087000\n",
      "lr 1.000000e-04 reg 1.000000e+05 train accuracy: 0.100265 val accuracy: 0.087000\n",
      "lr 1.000000e-04 reg 5.000000e+05 train accuracy: 0.100265 val accuracy: 0.087000\n",
      "lr 1.000000e-04 reg 1.000000e+06 train accuracy: 0.100265 val accuracy: 0.087000\n",
      "lr 1.000000e-04 reg 5.000000e+06 train accuracy: 0.100265 val accuracy: 0.087000\n",
      "lr 1.000000e-04 reg 1.000000e+07 train accuracy: 0.100265 val accuracy: 0.087000\n",
      "lr 1.000000e-04 reg 5.000000e+07 train accuracy: 0.100265 val accuracy: 0.087000\n",
      "lr 5.000000e-04 reg 1.000000e+03 train accuracy: 0.131347 val accuracy: 0.120000\n",
      "lr 5.000000e-04 reg 5.000000e+03 train accuracy: 0.088327 val accuracy: 0.082000\n",
      "lr 5.000000e-04 reg 1.000000e+04 train accuracy: 0.100265 val accuracy: 0.087000\n",
      "lr 5.000000e-04 reg 5.000000e+04 train accuracy: 0.100265 val accuracy: 0.087000\n",
      "lr 5.000000e-04 reg 1.000000e+05 train accuracy: 0.100265 val accuracy: 0.087000\n",
      "lr 5.000000e-04 reg 5.000000e+05 train accuracy: 0.100265 val accuracy: 0.087000\n",
      "lr 5.000000e-04 reg 1.000000e+06 train accuracy: 0.100265 val accuracy: 0.087000\n",
      "lr 5.000000e-04 reg 5.000000e+06 train accuracy: 0.100265 val accuracy: 0.087000\n",
      "lr 5.000000e-04 reg 1.000000e+07 train accuracy: 0.100265 val accuracy: 0.087000\n",
      "lr 5.000000e-04 reg 5.000000e+07 train accuracy: 0.100265 val accuracy: 0.087000\n",
      "lr 1.000000e-03 reg 1.000000e+03 train accuracy: 0.097082 val accuracy: 0.078000\n",
      "lr 1.000000e-03 reg 5.000000e+03 train accuracy: 0.100265 val accuracy: 0.087000\n",
      "lr 1.000000e-03 reg 1.000000e+04 train accuracy: 0.100265 val accuracy: 0.087000\n",
      "lr 1.000000e-03 reg 5.000000e+04 train accuracy: 0.100265 val accuracy: 0.087000\n",
      "lr 1.000000e-03 reg 1.000000e+05 train accuracy: 0.100265 val accuracy: 0.087000\n",
      "lr 1.000000e-03 reg 5.000000e+05 train accuracy: 0.100265 val accuracy: 0.087000\n",
      "lr 1.000000e-03 reg 1.000000e+06 train accuracy: 0.100265 val accuracy: 0.087000\n",
      "lr 1.000000e-03 reg 5.000000e+06 train accuracy: 0.100265 val accuracy: 0.087000\n",
      "lr 1.000000e-03 reg 1.000000e+07 train accuracy: 0.100265 val accuracy: 0.087000\n",
      "lr 1.000000e-03 reg 5.000000e+07 train accuracy: 0.100265 val accuracy: 0.087000\n",
      "best validation accuracy achieved during cross-validation: 0.402000\n"
     ]
    }
   ],
   "source": [
    "# Use the validation set to tune hyperparameters (regularization strength and\n",
    "# learning rate). You should experiment with different ranges for the learning\n",
    "# rates and regularization strengths; if you are careful you should be able to\n",
    "# get a classification accuracy of over 0.35 on the validation set.\n",
    "from cs231n.classifiers import Softmax\n",
    "results = {}\n",
    "best_val = -1\n",
    "best_softmax = None\n",
    "learning_rates = [1e-9, 5e-9, 1e-8, 5e-8, 1e-7, 5e-7, 1e-6, 5e-6, 1e-5, 5e-5,1e-4, 5e-4,1e-3]\n",
    "regularization_strengths = [1e3, 5e3, 1e4, 5e4, 1e5, 5e5, 1e6, 5e6, 1e7, 5e7]\n",
    "\n",
    "################################################################################\n",
    "# TODO:                                                                        #\n",
    "# Use the validation set to set the learning rate and regularization strength. #\n",
    "# This should be identical to the validation that you did for the SVM; save    #\n",
    "# the best trained softmax classifer in best_softmax.                          #\n",
    "################################################################################\n",
    "for lr in learning_rates:\n",
    "    for rs in regularization_strengths:\n",
    "        sfx = Softmax()\n",
    "        sfx.train(X_train, y_train, lr, rs,num_iters=1500)\n",
    "        y_train_pred = sfx.predict(X_train)\n",
    "        y_val_pred = sfx.predict(X_val)\n",
    "        train_accuracy = np.mean(y_train == y_train_pred)\n",
    "        val_accuracy = np.mean(y_val == y_val_pred)\n",
    "        results[(lr, rs)] = (train_accuracy, val_accuracy)  \n",
    "        if val_accuracy > best_val:\n",
    "            best_val = val_accuracy\n",
    "            best_softmax = sfx\n",
    "################################################################################\n",
    "#                              END OF YOUR CODE                                #\n",
    "################################################################################\n",
    "    \n",
    "# Print out results.\n",
    "for lr, reg in sorted(results):\n",
    "    train_accuracy, val_accuracy = results[(lr, reg)]\n",
    "    print 'lr %e reg %e train accuracy: %f val accuracy: %f' % (\n",
    "                lr, reg, train_accuracy, val_accuracy)\n",
    "    \n",
    "print 'best validation accuracy achieved during cross-validation: %f' % best_val"
   ]
  },
  {
   "cell_type": "code",
   "execution_count": 76,
   "metadata": {
    "collapsed": false
   },
   "outputs": [
    {
     "name": "stdout",
     "output_type": "stream",
     "text": [
      "softmax on raw pixels final test set accuracy: 0.378000\n"
     ]
    }
   ],
   "source": [
    "# evaluate on test set\n",
    "# Evaluate the best softmax on test set\n",
    "y_test_pred = best_softmax.predict(X_test)\n",
    "test_accuracy = np.mean(y_test == y_test_pred)\n",
    "print 'softmax on raw pixels final test set accuracy: %f' % (test_accuracy, )"
   ]
  },
  {
   "cell_type": "code",
   "execution_count": 77,
   "metadata": {
    "collapsed": false
   },
   "outputs": [
    {
     "data": {
      "image/png": "[encoded data removed]",
      "text/plain": [
       "<matplotlib.figure.Figure at 0x115fa4750>"
      ]
     },
     "metadata": {},
     "output_type": "display_data"
    }
   ],
   "source": [
    "# Visualize the learned weights for each class\n",
    "w = best_softmax.W[:-1,:] # strip out the bias\n",
    "w = w.reshape(32, 32, 3, 10)\n",
    "\n",
    "w_min, w_max = np.min(w), np.max(w)\n",
    "\n",
    "classes = ['plane', 'car', 'bird', 'cat', 'deer', 'dog', 'frog', 'horse', 'ship', 'truck']\n",
    "for i in xrange(10):\n",
    "  plt.subplot(2, 5, i + 1)\n",
    "  \n",
    "  # Rescale the weights to be between 0 and 255\n",
    "  wimg = 255.0 * (w[:, :, :, i].squeeze() - w_min) / (w_max - w_min)\n",
    "  plt.imshow(wimg.astype('uint8'))\n",
    "  plt.axis('off')\n",
    "  plt.title(classes[i])"
   ]
  },
  {
   "cell_type": "code",
   "execution_count": null,
   "metadata": {
    "collapsed": true
   },
   "outputs": [],
   "source": []
  }
 ],
 "metadata": {
  "kernelspec": {
   "display_name": "Python 2",
   "language": "python",
   "name": "python2"
  },
  "language_info": {
   "codemirror_mode": {
    "name": "ipython",
    "version": 2
   },
   "file_extension": ".py",
   "mimetype": "text/x-python",
   "name": "python",
   "nbconvert_exporter": "python",
   "pygments_lexer": "ipython2",
   "version": "2.7.13"
  }
 },
 "nbformat": 4,
 "nbformat_minor": 0
}
